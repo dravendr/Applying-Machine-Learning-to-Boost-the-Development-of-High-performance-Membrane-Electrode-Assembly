{
 "cells": [
  {
   "cell_type": "markdown",
   "metadata": {},
   "source": [
    "# Heat map constuction:66 initial features"
   ]
  },
  {
   "cell_type": "code",
   "execution_count": 15,
   "metadata": {},
   "outputs": [
    {
     "name": "stdout",
     "output_type": "stream",
     "text": [
      "Using matplotlib backend: Qt5Agg\n"
     ]
    }
   ],
   "source": [
    "###########import packages##########\n",
    "import pandas as pd\n",
    "import matplotlib.pyplot as plt\n",
    "import numpy as np\n",
    "import tensorflow as tf \n",
    "import xgboost as xgb\n",
    "from sklearn.model_selection import GridSearchCV\n",
    "from xgboost import plot_importance\n",
    "from xgboost import XGBClassifier\n",
    "from sklearn.model_selection import train_test_split\n",
    "from sklearn.metrics import accuracy_score\n",
    "from sklearn.metrics import classification_report\n",
    "%matplotlib\n",
    "###########wrapping root mean square error for later calls##########\n",
    "def rmse(predictions, targets):\n",
    "    return np.sqrt(((predictions - targets) ** 2).mean())\n",
    "###########loading data##########\n",
    "fdata=pd.read_csv('database.csv',encoding=\"gbk\")\n",
    "raw_data=fdata.loc[:,[                     \n",
    "                      'Pt at% in metal element',#0\n",
    "                      'Pd at% in metal element',#1\n",
    "                      'Au at% in metal element',#2\n",
    "                      'Ir at% in metal element',#3\n",
    "                      'Ru at% in metal element',#4\n",
    "                      'Ni at% in metal element',#5\n",
    "                      'Co at% in metal element',#6\n",
    "                      'Fe at% in metal element',#7\n",
    "                      'Mn at% in metal element',#8\n",
    "                      'Zn at% in metal element',#9\n",
    "                      'Cu at% in metal element',#10\n",
    "                      'Ti at% in metal element',#11\n",
    "                      'Cr at% in metal element',#12\n",
    "                      'Mo at% in metal element',#13\n",
    "                      'Ag at% in metal element',#14\n",
    "                      'V at% in metal element',#15\n",
    "                      'Sc at% in metal element',#16\n",
    "                      'W at% in metal element',#17\n",
    "                      'Os at% in metal element',#18\n",
    "                      'Ga at% in metal element',#19\n",
    "                      'total metal mass ratio wt%',#20\n",
    "                      'N at%',#21\n",
    "                      'Sn at%',#22\n",
    "                      'S at%',#23\n",
    "                      'O at%',#24\n",
    "                      'Ti at%',#25\n",
    "                      'Ta at%',#26\n",
    "                      'Nb at%',#27\n",
    "                      'Si at%',#28\n",
    "                      'W at%',#29\n",
    "                      'C wt%',#30\n",
    "                      'Particle diameter （nm）',#31\n",
    "                      'support BET surface area(m2/g)' ,#32\n",
    "                      'particle',#33\n",
    "                      'nanowire',#34\n",
    "                      'core-shell',#35\n",
    "                      'Reduction Temperature',#36\n",
    "                      'Reduction Time/min',#37\n",
    "                      'mircrowave(0/1)',#38  \n",
    "                      'polyhydric alcohols',#39\n",
    "                      'heat reduction',#40\n",
    "                      'inorganic reducing agent',#41\n",
    "                      'organic reducing agent',#42\n",
    "                      'pH',#43\n",
    "                      'Annealing Temperature',#44\n",
    "                      'Annealing Time/h',#45\n",
    "                      'Atomosphere h2',#46\n",
    "                      'Atomosphere inert',#47\n",
    "                      'ECSA m2/g',#48\n",
    "                      'Mass Activity mA mg-1',#49\n",
    "                      'I/C Ratio(ionomer/catalyst)',#50\n",
    "                      'Area cm2',#51\n",
    "                      'Cathodic Loading Amount mgPt cm-2',#52\n",
    "                      'Anodic Platinum Loading Amount mgPt cm-2',#53\n",
    "                      'Anodic catalyst type x wt% Pt/C',#54\n",
    "                      'membrane thickness',#55\n",
    "                      'Hot Press Temperature',#56\n",
    "                      'Hot Press Time min',#57\n",
    "                      'Hot Press Pressure Mpa',#58\n",
    "                      'Humidity %',#59\n",
    "                      'GDE for 1',#60\n",
    "                      'celltemp',#61\n",
    "                      'Flowing rate of H2 ml min-1',#62\n",
    "                      'flowing rate of cathode gas(O2/air)',#63\n",
    "                      'Back Pressure Mpa',#64\n",
    "                      'Cathode gas oxygen ratio',#65\n",
    "                      'qualified'#\n",
    "                        ]]\n",
    "###########handling missing values##########\n",
    "median_raw_data=raw_data.median()\n",
    "dict_median_raw_data=median_raw_data.to_dict()\n",
    "data=raw_data.fillna(dict_median_raw_data)\n",
    "###########train test splitting##########\n",
    "standardized_data = (data-np.mean(data,axis=0))/np.std(data,axis=0)\n",
    "raw_param=standardized_data.iloc[:,0:66]"
   ]
  },
  {
   "cell_type": "code",
   "execution_count": 16,
   "metadata": {},
   "outputs": [
    {
     "name": "stdout",
     "output_type": "stream",
     "text": [
      "<class 'pandas.core.frame.DataFrame'>\n"
     ]
    }
   ],
   "source": [
    "mat=raw_param.corr(method='spearman')\n",
    "print(type(mat))"
   ]
  },
  {
   "cell_type": "code",
   "execution_count": 17,
   "metadata": {},
   "outputs": [
    {
     "data": {
      "text/plain": [
       "<matplotlib.axes._subplots.AxesSubplot at 0x2cd03341a88>"
      ]
     },
     "execution_count": 17,
     "metadata": {},
     "output_type": "execute_result"
    }
   ],
   "source": [
    "import seaborn as sns\n",
    "import numpy as np\n",
    "import pandas as pd\n",
    "import matplotlib.pyplot as plt\n",
    "f, ax= plt.subplots(figsize = (14, 10))\n",
    "sns.set(font_scale=2)\n",
    "sns.heatmap(mat, \n",
    "                annot=False, vmax=1,vmin = 0, xticklabels= True, yticklabels= True, square=True, cmap=\"gist_heat_r\")\n"
   ]
  },
  {
   "cell_type": "markdown",
   "metadata": {},
   "source": [
    "# After selection"
   ]
  },
  {
   "cell_type": "code",
   "execution_count": 13,
   "metadata": {},
   "outputs": [],
   "source": [
    "fdata=pd.read_csv('database.csv',encoding=\"gbk\")\n",
    "raw_data=fdata.loc[:,[                     \n",
    "                      'Pt at% in metal element',#0\n",
    "                      'Co at% in metal element',#1\n",
    "                      'total metal mass ratio wt%',#2\n",
    "                      'C wt%',#3\n",
    "                      'Particle diameter （nm）',#4\n",
    "                      'support BET surface area(m2/g)' ,#5\n",
    "                      'Reduction Temperature',#6\n",
    "                      'Reduction Time/min',#7\n",
    "                      'Annealing Temperature',#8\n",
    "                      'ECSA m2/g',#9\n",
    "                      'Mass Activity mA mg-1',#10\n",
    "                      'I/C Ratio(ionomer/catalyst)',#11\n",
    "                      'Area cm2',#12\n",
    "                      'Cathodic Loading Amount mgPt cm-2',#13\n",
    "                      'Anodic Platinum Loading Amount mgPt cm-2',#14\n",
    "                      'Anodic catalyst type x wt% Pt/C',#15\n",
    "                      'membrane thickness',#16\n",
    "                      'Hot Press Temperature',#17\n",
    "                      'Hot Press Time min',#18\n",
    "                      'Hot Press Pressure Mpa',#19\n",
    "                      'Humidity %',#20\n",
    "                      'GDE for 1',#21\n",
    "                      'celltemp',#22\n",
    "                      'Flowing rate of H2 ml min-1',#23\n",
    "                      'flowing rate of cathode gas(O2/air)',#24\n",
    "                      'Back Pressure Mpa',#25\n",
    "                      'Cathode gas oxygen ratio',#26\n",
    "                      'qualified'#\n",
    "                        ]]\n",
    "###########handling missing values##########\n",
    "median_raw_data=raw_data.median()\n",
    "dict_median_raw_data=median_raw_data.to_dict()\n",
    "data=raw_data.fillna(dict_median_raw_data)\n",
    "standardized_data = (data-np.mean(data,axis=0))/np.std(data,axis=0)\n",
    "raw_param=standardized_data.iloc[:,0:27]\n",
    "###########fix random seed for reproducability##########\n",
    "seed=78\n",
    "\n",
    "mat2=raw_param.corr()"
   ]
  },
  {
   "cell_type": "code",
   "execution_count": 14,
   "metadata": {},
   "outputs": [
    {
     "data": {
      "text/plain": [
       "<matplotlib.axes._subplots.AxesSubplot at 0x2cd03351108>"
      ]
     },
     "execution_count": 14,
     "metadata": {},
     "output_type": "execute_result"
    }
   ],
   "source": [
    "import seaborn as sns\n",
    "import numpy as np\n",
    "import pandas as pd\n",
    "import matplotlib.pyplot as plt\n",
    "f, ax= plt.subplots(figsize = (14, 10))\n",
    "\n",
    "sns.heatmap(mat2, \n",
    "                annot=False, vmax=1,vmin = 0, xticklabels= True, yticklabels= True, square=True, cmap=\"gist_heat_r\")"
   ]
  }
 ],
 "metadata": {
  "kernelspec": {
   "display_name": "Python 3",
   "language": "python",
   "name": "python3"
  },
  "language_info": {
   "codemirror_mode": {
    "name": "ipython",
    "version": 3
   },
   "file_extension": ".py",
   "mimetype": "text/x-python",
   "name": "python",
   "nbconvert_exporter": "python",
   "pygments_lexer": "ipython3",
   "version": "3.7.6"
  }
 },
 "nbformat": 4,
 "nbformat_minor": 4
}
