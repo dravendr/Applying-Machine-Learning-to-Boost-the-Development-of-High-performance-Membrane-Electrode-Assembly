{
 "cells": [
  {
   "cell_type": "markdown",
   "metadata": {},
   "source": [
    "# Decision Tree Model for generating advices for high performance "
   ]
  },
  {
   "cell_type": "code",
   "execution_count": null,
   "metadata": {},
   "outputs": [],
   "source": [
    "###########import packages##########\n",
    "import pandas as pd\n",
    "import matplotlib.pyplot as plt\n",
    "import numpy as np\n",
    "import matplotlib.pyplot as plt\n",
    "import tensorflow as tf \n",
    "from sklearn.model_selection import GridSearchCV\n",
    "from sklearn.model_selection import train_test_split\n",
    "from sklearn import tree\n",
    "from sklearn.metrics import classification_report\n",
    "%matplotlib\n",
    "###########fix random seed for reproducability##########\n",
    "seed=62\n",
    "fdata=pd.read_csv('database_decision_tree.csv',encoding=\"gbk\")\n",
    "raw_data=fdata.loc[:,[                     \n",
    "                      'Pt at% in Metal Element',#0\n",
    "                      'Co at% in Metal Element',#1\n",
    "                      'Total Metal Mass Ratio wt%',#2\n",
    "                      'C wt%',#3\n",
    "                      'Particle Diameter (nm)',#4\n",
    "                      'Support BET Surface Area(m2/g)' ,#5\n",
    "                      'Wet Reduction Temperature (℃)',#6\n",
    "                      'Wet Reduction Time (min)',#7\n",
    "                      'Annealing Temperature (℃)',#8\n",
    "                      'Electrochemical Active Surface Area (m2/g)',#9\n",
    "                      'Catalyst Mass Activity (mA mg-1)',#10\n",
    "                      'I/C Ratio(Ionomer/Catalyst)',#11\n",
    "                      'Active Area (cm2)',#12\n",
    "                      'Cathode Platinum Loading (mgPt cm-2)',#13\n",
    "                      'Anode Platinum Loading(mgPt cm-2)',#14\n",
    "                      'Anodic Catalyst Type x wt% Pt/C',#15\n",
    "                      'Membrane Thickness (μm)',#16\n",
    "                      'Hot Press Temperature (℃)',#17\n",
    "                      'Hot Press Time (min)',#18\n",
    "                      'Hot Press Pressure (Mpa)',#19\n",
    "                      'Humidity %',#20\n",
    "                      'GDE for 1/CCM for 0',#21\n",
    "                      'Cell Temperature (℃)',#22\n",
    "                      'Flowing Rate of Anode Gas (H2) (ml min-1)',#23\n",
    "                      'Flowing Rate of Cathode Gas(O2/air) (ml min-1)',#24\n",
    "                      'Backpressure (Mpa)',#25\n",
    "                      'Cathode Gas Oxygen Ratio',#26\n",
    "                      'qualified'#\n",
    "                        ]]\n",
    "###########handling missing values##########\n",
    "median_raw_data=raw_data.median()\n",
    "dict_median_raw_data=median_raw_data.to_dict()\n",
    "data=raw_data.fillna(dict_median_raw_data)\n",
    "###########data standardization##########\n",
    "standardized_data = (data-np.mean(data,axis=0))/np.std(data,axis=0)\n",
    "###########train test splitting##########\n",
    "raw_param=data.iloc[:,0:27]\n",
    "raw_power=data.iloc[:,27]\n",
    "X=raw_param.values.astype(np.float32)\n",
    "y=raw_power.values.astype(np.float32)\n",
    "X_train, X_test, y_train, y_test = train_test_split(X, y, test_size=.15,random_state=seed)\n",
    "###########building the decision tree##########\n",
    "DT_SEED=2\n",
    "model=tree.DecisionTreeClassifier(random_state=DT_SEED)\n",
    "param = {\n",
    "    'max_depth':range(6,10),\n",
    "    'criterion' : ['gini', 'entropy'],\n",
    "    'splitter':['best']\n",
    "    \n",
    "       }\n",
    "\n",
    "grid = GridSearchCV(model,param_grid=param,cv=5)\n",
    "grid.fit(X_train,y_train.astype(int))\n",
    "model=grid.best_estimator_"
   ]
  },
  {
   "cell_type": "markdown",
   "metadata": {},
   "source": [
    "# Constructing decision tree"
   ]
  },
  {
   "cell_type": "code",
   "execution_count": null,
   "metadata": {},
   "outputs": [],
   "source": [
    "###########graphviz was chosen to generate the graph of the decision tree,install it in anaconda and the official website before use##########\n",
    "import graphviz\n",
    "###########giving feature names##########\n",
    "dot_data=tree.export_graphviz(model,\n",
    "                              out_file=None,\n",
    "                              feature_names=[\n",
    "                            'Pt at% in Metal Element',#0\n",
    "                      'Co at% in Metal Element',#1\n",
    "                      'Total Metal Mass Ratio wt%',#2\n",
    "                      'C wt%',#3\n",
    "                      'Particle Diameter (nm)',#4\n",
    "                      'Support BET Surface Area(m2/g)' ,#5\n",
    "                      'Wet Reduction Temperature (℃)',#6\n",
    "                      'Wet Reduction Time (min)',#7\n",
    "                      'Annealing Temperature (℃)',#8\n",
    "                      'Electrochemical Active Surface Area (m2/g)',#9\n",
    "                      'Catalyst Mass Activity (mA mg-1)',#10\n",
    "                      'I/C Ratio(Ionomer/Catalyst)',#11\n",
    "                      'Active Area (cm2)',#12\n",
    "                      'Cathode Platinum Loading (mgPt cm-2)',#13\n",
    "                      'Anode Platinum Loading(mgPt cm-2)',#14\n",
    "                      'Anodic Catalyst Type x wt% Pt/C',#15\n",
    "                      'Membrane Thickness (μm)',#16\n",
    "                      'Hot Press Temperature (℃)',#17\n",
    "                      'Hot Press Time (min)',#18\n",
    "                      'Hot Press Pressure (Mpa)',#19\n",
    "                      'Humidity %',#20\n",
    "                      'GDE for 1/CCM for 0',#21\n",
    "                      'Cell Temperature (℃)',#22\n",
    "                      'Flowing Rate of Anode Gas (H2) (ml min-1)',#23\n",
    "                      'Flowing Rate of Cathode Gas(O2/air) (ml min-1)',#24\n",
    "                      'Backpressure (Mpa)',#25\n",
    "                      'Cathode Gas Oxygen Ratio'],\n",
    "                              filled=True,\n",
    "                              rounded=True,\n",
    "                              special_characters=True,\n",
    "                              class_names=['No','Yes'])\n",
    "graph=graphviz.Source(dot_data)"
   ]
  },
  {
   "cell_type": "markdown",
   "metadata": {},
   "source": [
    "# Generating Graphs"
   ]
  },
  {
   "cell_type": "code",
   "execution_count": null,
   "metadata": {},
   "outputs": [],
   "source": [
    "###########visualization##########\n",
    "graph"
   ]
  },
  {
   "cell_type": "markdown",
   "metadata": {},
   "source": [
    "# Accuracy of decision tree model"
   ]
  },
  {
   "cell_type": "code",
   "execution_count": null,
   "metadata": {},
   "outputs": [],
   "source": [
    "###########generating confusion matrix to evaluate the prediction accuracy##########\n",
    "from sklearn.metrics import accuracy_score\n",
    "prediction_train=model.predict(X_train)\n",
    "prediction_test=model.predict(X_test)\n",
    "print(classification_report(y_train,prediction_train))\n",
    "print(classification_report(y_test,prediction_test))"
   ]
  },
  {
   "cell_type": "markdown",
   "metadata": {},
   "source": [
    "# Saving as local file"
   ]
  },
  {
   "cell_type": "code",
   "execution_count": null,
   "metadata": {},
   "outputs": [],
   "source": [
    "# ###########generate a PDF file containing the figure##########\n",
    "graph.render('decisiontree')"
   ]
  }
 ],
 "metadata": {
  "kernelspec": {
   "display_name": "Python 3",
   "language": "python",
   "name": "python3"
  },
  "language_info": {
   "codemirror_mode": {
    "name": "ipython",
    "version": 3
   },
   "file_extension": ".py",
   "mimetype": "text/x-python",
   "name": "python",
   "nbconvert_exporter": "python",
   "pygments_lexer": "ipython3",
   "version": "3.7.6"
  }
 },
 "nbformat": 4,
 "nbformat_minor": 4
}
