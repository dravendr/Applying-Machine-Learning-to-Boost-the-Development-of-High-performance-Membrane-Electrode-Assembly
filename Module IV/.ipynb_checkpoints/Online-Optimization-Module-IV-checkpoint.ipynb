{
 "cells": [
  {
   "cell_type": "markdown",
   "metadata": {},
   "source": [
    "# Neccessary packages"
   ]
  },
  {
   "cell_type": "code",
   "execution_count": null,
   "metadata": {
    "colab": {},
    "colab_type": "code",
    "id": "1taZeDDkcsWS"
   },
   "outputs": [],
   "source": [
    "%tensorflow_version 1.x\n",
    "%matplotlib inline"
   ]
  },
  {
   "cell_type": "code",
   "execution_count": null,
   "metadata": {
    "colab": {
     "base_uri": "https://localhost:8080/",
     "height": 119
    },
    "colab_type": "code",
    "id": "8e-mHeCXQ2Au",
    "outputId": "74b490c3-ab2a-4558-db74-bcc15b4bfa64"
   },
   "outputs": [],
   "source": [
    "!pip install scikit-opt"
   ]
  },
  {
   "cell_type": "code",
   "execution_count": 1,
   "metadata": {
    "colab": {
     "base_uri": "https://localhost:8080/",
     "height": 173
    },
    "colab_type": "code",
    "id": "Q4zypgARckkW",
    "outputId": "d6660557-ac3d-47f6-f667-24434cee513d"
   },
   "outputs": [
    {
     "name": "stderr",
     "output_type": "stream",
     "text": [
      "D:\\anaconda\\lib\\site-packages\\tensorflow\\python\\framework\\dtypes.py:516: FutureWarning: Passing (type, 1) or '1type' as a synonym of type is deprecated; in a future version of numpy, it will be understood as (type, (1,)) / '(1,)type'.\n",
      "  _np_qint8 = np.dtype([(\"qint8\", np.int8, 1)])\n",
      "D:\\anaconda\\lib\\site-packages\\tensorflow\\python\\framework\\dtypes.py:517: FutureWarning: Passing (type, 1) or '1type' as a synonym of type is deprecated; in a future version of numpy, it will be understood as (type, (1,)) / '(1,)type'.\n",
      "  _np_quint8 = np.dtype([(\"quint8\", np.uint8, 1)])\n",
      "D:\\anaconda\\lib\\site-packages\\tensorflow\\python\\framework\\dtypes.py:518: FutureWarning: Passing (type, 1) or '1type' as a synonym of type is deprecated; in a future version of numpy, it will be understood as (type, (1,)) / '(1,)type'.\n",
      "  _np_qint16 = np.dtype([(\"qint16\", np.int16, 1)])\n",
      "D:\\anaconda\\lib\\site-packages\\tensorflow\\python\\framework\\dtypes.py:519: FutureWarning: Passing (type, 1) or '1type' as a synonym of type is deprecated; in a future version of numpy, it will be understood as (type, (1,)) / '(1,)type'.\n",
      "  _np_quint16 = np.dtype([(\"quint16\", np.uint16, 1)])\n",
      "D:\\anaconda\\lib\\site-packages\\tensorflow\\python\\framework\\dtypes.py:520: FutureWarning: Passing (type, 1) or '1type' as a synonym of type is deprecated; in a future version of numpy, it will be understood as (type, (1,)) / '(1,)type'.\n",
      "  _np_qint32 = np.dtype([(\"qint32\", np.int32, 1)])\n",
      "D:\\anaconda\\lib\\site-packages\\tensorflow\\python\\framework\\dtypes.py:525: FutureWarning: Passing (type, 1) or '1type' as a synonym of type is deprecated; in a future version of numpy, it will be understood as (type, (1,)) / '(1,)type'.\n",
      "  np_resource = np.dtype([(\"resource\", np.ubyte, 1)])\n",
      "D:\\anaconda\\lib\\site-packages\\tensorboard\\compat\\tensorflow_stub\\dtypes.py:541: FutureWarning: Passing (type, 1) or '1type' as a synonym of type is deprecated; in a future version of numpy, it will be understood as (type, (1,)) / '(1,)type'.\n",
      "  _np_qint8 = np.dtype([(\"qint8\", np.int8, 1)])\n",
      "D:\\anaconda\\lib\\site-packages\\tensorboard\\compat\\tensorflow_stub\\dtypes.py:542: FutureWarning: Passing (type, 1) or '1type' as a synonym of type is deprecated; in a future version of numpy, it will be understood as (type, (1,)) / '(1,)type'.\n",
      "  _np_quint8 = np.dtype([(\"quint8\", np.uint8, 1)])\n",
      "D:\\anaconda\\lib\\site-packages\\tensorboard\\compat\\tensorflow_stub\\dtypes.py:543: FutureWarning: Passing (type, 1) or '1type' as a synonym of type is deprecated; in a future version of numpy, it will be understood as (type, (1,)) / '(1,)type'.\n",
      "  _np_qint16 = np.dtype([(\"qint16\", np.int16, 1)])\n",
      "D:\\anaconda\\lib\\site-packages\\tensorboard\\compat\\tensorflow_stub\\dtypes.py:544: FutureWarning: Passing (type, 1) or '1type' as a synonym of type is deprecated; in a future version of numpy, it will be understood as (type, (1,)) / '(1,)type'.\n",
      "  _np_quint16 = np.dtype([(\"quint16\", np.uint16, 1)])\n",
      "D:\\anaconda\\lib\\site-packages\\tensorboard\\compat\\tensorflow_stub\\dtypes.py:545: FutureWarning: Passing (type, 1) or '1type' as a synonym of type is deprecated; in a future version of numpy, it will be understood as (type, (1,)) / '(1,)type'.\n",
      "  _np_qint32 = np.dtype([(\"qint32\", np.int32, 1)])\n",
      "D:\\anaconda\\lib\\site-packages\\tensorboard\\compat\\tensorflow_stub\\dtypes.py:550: FutureWarning: Passing (type, 1) or '1type' as a synonym of type is deprecated; in a future version of numpy, it will be understood as (type, (1,)) / '(1,)type'.\n",
      "  np_resource = np.dtype([(\"resource\", np.ubyte, 1)])\n",
      "Using TensorFlow backend.\n"
     ]
    },
    {
     "name": "stdout",
     "output_type": "stream",
     "text": [
      "Using matplotlib backend: Qt5Agg\n",
      "WARNING:tensorflow:From D:\\anaconda\\lib\\site-packages\\keras\\backend\\tensorflow_backend.py:422: The name tf.global_variables is deprecated. Please use tf.compat.v1.global_variables instead.\n",
      "\n",
      "ANN,R2 0.9482 RMSE 148.30203\n"
     ]
    }
   ],
   "source": [
    "###########import packages##########\n",
    "import tensorflow as tf\n",
    "import keras\n",
    "import pandas as pd\n",
    "import numpy as np\n",
    "import matplotlib.pyplot as plt\n",
    "from keras.backend.tensorflow_backend import set_session\n",
    "from keras import optimizers\n",
    "from keras import regularizers\n",
    "from keras import backend as K\n",
    "from keras.callbacks import EarlyStopping\n",
    "from keras.callbacks import TensorBoard\n",
    "from keras.constraints import max_norm\n",
    "from keras.models import Sequential \n",
    "from keras.models import Model, load_model\n",
    "from keras.layers import Dense \n",
    "from keras.layers import Dropout \n",
    "from keras.layers import BatchNormalization\n",
    "from keras.wrappers.scikit_learn import KerasClassifier \n",
    "from keras.wrappers.scikit_learn import KerasRegressor\n",
    "from keras.constraints import maxnorm \n",
    "from sklearn.model_selection import train_test_split\n",
    "from sklearn.preprocessing import LabelBinarizer\n",
    "from sklearn.model_selection import GridSearchCV\n",
    "%matplotlib\n",
    "###########assign memory##########\n",
    "###########delete this part if your tensorflow was based on CPU##########\n",
    "config = tf.ConfigProto()\n",
    "config.gpu_options.allocator_type = 'BFC' #A \"Best-fit with coalescing\" algorithm, simplified from a version of dlmalloc.\n",
    "config.gpu_options.per_process_gpu_memory_fraction = 0.25\n",
    "config.gpu_options.allow_growth = True\n",
    "set_session(tf.Session(config=config)) \n",
    "###########wrapping root mean square error for later calls##########\n",
    "def rmse(predictions, targets):\n",
    "    return np.sqrt(((predictions - targets) ** 2).mean())\n",
    "###########loading data##########\n",
    "fdata=pd.read_csv('database.csv',encoding=\"gbk\")\n",
    "raw_data=fdata.loc[:,[                     \n",
    " 'Pt at% in metal element',#0\n",
    "                      'Co at% in metal element',#1\n",
    "                      'total metal mass ratio wt%',#2\n",
    "                      'C wt%',#3\n",
    "                      'Particle diameter （nm）',#4\n",
    "                      'support BET surface area(m2/g)' ,#5\n",
    "                      'Reduction Temperature',#6\n",
    "                      'Reduction Time/min',#7\n",
    "                      'Annealing Temperature',#8\n",
    "                      'ECSA m2/g',#9\n",
    "                      'Mass Activity mA mg-1',#10\n",
    "                      'I/C Ratio(ionomer/catalyst)',#11\n",
    "                      'Area cm2',#12\n",
    "                      'Cathodic Loading Amount mgPt cm-2',#13\n",
    "                      'Anodic Platinum Loading Amount mgPt cm-2',#14\n",
    "                      'Anodic catalyst type x wt% Pt/C',#15\n",
    "                      'membrane thickness',#16\n",
    "                      'Hot Press Temperature',#17\n",
    "                      'Hot Press Time min',#18\n",
    "                      'Hot Press Pressure Mpa',#19\n",
    "                      'Humidity %',#20\n",
    "                      'GDE for 1',#21\n",
    "                      'celltemp',#22\n",
    "                      'Flowing rate of H2 ml min-1',#23\n",
    "                      'flowing rate of cathode gas(O2/air)',#24\n",
    "                      'Back Pressure Mpa',#25\n",
    "                      'Cathode gas oxygen ratio',#26\n",
    "                      'Maximum Power Density mW cm-2'#\n",
    "                        ]]\n",
    "###########handling missing values##########\n",
    "median_raw_data=raw_data.median()\n",
    "dict_median_raw_data=median_raw_data.to_dict()\n",
    "data=raw_data.fillna(dict_median_raw_data)\n",
    "###########data standardization##########\n",
    "standardized_data = (data-np.mean(data,axis=0))/np.std(data,axis=0)\n",
    "###########train test splitting##########\n",
    "raw_param=standardized_data.iloc[:,0:27]\n",
    "raw_power=standardized_data.iloc[:,27]\n",
    "X=raw_param.values.astype(np.float32)\n",
    "y=raw_power.values.astype(np.float32)\n",
    "seed=78\n",
    "X_train, X_test, y_train, y_test = train_test_split(X, y, test_size=.15,random_state=seed)\n",
    "##########load trained model###########\n",
    "model=load_model('ANN_MPD.h5')\n",
    "predict_ann= model.predict(X_test)\n",
    "train_ann= model.predict(X_train)\n",
    "###########result output##########\n",
    "x_prediction_maximum_power_ann=predict_ann*np.std(data,axis=0)[27]+np.mean(data,axis=0)[27]\n",
    "y_real_maximum_power=y_test*np.std(data,axis=0)[27]+np.mean(data,axis=0)[27]\n",
    "x_prediction_maximum_power_ann=x_prediction_maximum_power_ann[:,0]\n",
    "x_prediction_maximum_power_ann_series=pd.Series(x_prediction_maximum_power_ann)\n",
    "y_real_maximum_power_series=pd.Series(y_real_maximum_power)\n",
    "corr_ann = round(x_prediction_maximum_power_ann_series.corr(y_real_maximum_power_series), 4)\n",
    "rmse_val= rmse(x_prediction_maximum_power_ann,y_real_maximum_power)\n",
    "print('ANN,R2',corr_ann,'RMSE',rmse_val)\n",
    "###########result output##########\n",
    "x_prediction_maximum_power_ann=predict_ann*np.std(data,axis=0)[27]+np.mean(data,axis=0)[27]\n",
    "y_real_maximum_power=y_test*np.std(data,axis=0)[27]+np.mean(data,axis=0)[27]\n",
    "x_prediction_maximum_power_ann=x_prediction_maximum_power_ann[:,0]\n",
    "x_prediction_maximum_power_ann_series=pd.Series(x_prediction_maximum_power_ann)\n",
    "y_real_maximum_power_series=pd.Series(y_real_maximum_power)\n",
    "corr_ann = round(x_prediction_maximum_power_ann_series.corr(y_real_maximum_power_series), 4)\n",
    "rmse_val= rmse(x_prediction_maximum_power_ann,y_real_maximum_power)\n",
    "###########visualization##########\n",
    "x_y_x=np.arange(0,2500,100)\n",
    "x_y_y=np.arange(0,2500,100)\n",
    "fig = plt.figure()\n",
    "ax = fig.add_subplot(111)\n",
    "ax.scatter(x_prediction_maximum_power_ann,y_real_maximum_power,color='red',label='Artificial Neural Network')\n",
    "plt.legend()\n",
    "ax.plot(x_y_x,x_y_y)\n",
    "plt.xlabel(u\"Predicted_Maximum_Power mW cm^-2\")\n",
    "plt.ylabel(u\"Real_Maximum_Power mW cm^-2\")\n",
    "plt.show()\n",
    "\n"
   ]
  },
  {
   "cell_type": "markdown",
   "metadata": {},
   "source": [
    "# Defining a processing fuction for advanced optimization algorithms-6-variables"
   ]
  },
  {
   "cell_type": "code",
   "execution_count": null,
   "metadata": {
    "colab": {},
    "colab_type": "code",
    "id": "ixTWx-Hqckkf"
   },
   "outputs": [],
   "source": [
    "def processing(IC_ratio,HP_Temp,HP_Time,HP_Pressure,FLC,FLA):\n",
    "    median=standardized_data.median()\n",
    "    raw_median=data.median()\n",
    "    user_input1=raw_median[0:27]\n",
    "    \n",
    "    dict_result={}\n",
    "    \n",
    "    user_input1.iloc[0]=95.45\n",
    "    user_input1.iloc[1]=4.54\n",
    "    user_input1.iloc[2]=50.914\n",
    "    user_input1.iloc[3]=49.014\n",
    "    user_input1.iloc[4]=3.5\n",
    "    user_input1.iloc[5]=800\n",
    "    user_input1.iloc[6]=175\n",
    "    user_input1.iloc[7]=480\n",
    "    user_input1.iloc[8]=150\n",
    "    user_input1.iloc[9]=68.1\n",
    "    user_input1.iloc[10]=306\n",
    "    user_input1.iloc[11]=IC_ratio\n",
    "    user_input1.iloc[12]=1\n",
    "    user_input1.iloc[13]=0.4\n",
    "    user_input1.iloc[14]=0.2\n",
    "    user_input1.iloc[15]=20\n",
    "    user_input1.iloc[16]=25\n",
    "    user_input1.iloc[17]=HP_Temp\n",
    "    user_input1.iloc[18]=HP_Time\n",
    "    user_input1.iloc[19]=HP_Pressure\n",
    "    user_input1.iloc[20]=90\n",
    "    user_input1.iloc[21]=0\n",
    "    user_input1.iloc[22]=80\n",
    "    user_input1.iloc[23]=FLA\n",
    "    user_input1.iloc[24]=FLC\n",
    "    user_input1.iloc[25]=0.05\n",
    "    user_input1.iloc[26]=0.21\n",
    "    standardized_user_input1=(user_input1-np.mean(data,axis=0)[0:27])/np.std(data,axis=0)[0:27]\n",
    "    data_test_input1=standardized_user_input1\n",
    "    data_test_input1=pd.DataFrame(data_test_input1)\n",
    "    data_test_input1=data_test_input1.T\n",
    "    data_test_param1=data_test_input1.values.astype(np.float32)\n",
    "    predict_ann=model.predict(data_test_param1)\n",
    "    ###########result output##########\n",
    "    x_prediction_maximum_power_ann=predict_ann*np.std(data,axis=0)[27]+np.mean(data,axis=0)[27]\n",
    "    x_prediction_maximum_power_ann=x_prediction_maximum_power_ann.astype(np.float32)\n",
    "    x_prediction_maximum_power_ann=x_prediction_maximum_power_ann.tolist()\n",
    "\n",
    "    x_prediction_maximum_power_ann=x_prediction_maximum_power_ann[0]\n",
    "\n",
    "    x_prediction_maximum_power_ann=x_prediction_maximum_power_ann[0]\n",
    "    dict_result.update({x_prediction_maximum_power_ann:{'IC_ratio':IC_ratio,\n",
    "                                                        'HP_Temp':HP_Temp,'HP_Time':HP_Time,'HP_Pressure':HP_Pressure,\n",
    "                                                        'FLA':FLA,'FLC':FLC}})\n",
    "\n",
    "    return x_prediction_maximum_power_ann, dict_result\n",
    "\n",
    "\n",
    "def processing_func(p):\n",
    "    IC_ratio,HP_Temp,HP_Time,HP_Pressure,FLC,FLA= p\n",
    "    result, _ = processing(IC_ratio,HP_Temp,HP_Time,HP_Pressure,FLC,FLA)\n",
    "    return -result"
   ]
  },
  {
   "cell_type": "markdown",
   "metadata": {
    "colab_type": "text",
    "id": "98_79ciyQRNv"
   },
   "source": [
    "Genetic Algorithm"
   ]
  },
  {
   "cell_type": "code",
   "execution_count": null,
   "metadata": {
    "colab": {
     "base_uri": "https://localhost:8080/",
     "height": 605
    },
    "colab_type": "code",
    "id": "CIFtqLxackki",
    "outputId": "62a3f431-3c2e-4d7d-ad18-268003b8427f"
   },
   "outputs": [],
   "source": [
    "import numpy as np\n",
    "from sko.GA import GA\n",
    "#IC_ratio,Area,A_type,Thickness,HP_Temp,HP_Time,HP_Pressure,Humidity,GDE_CCM,Cell_Temp,FLC,FLA,backpressure\n",
    "ga = GA(func=processing_func, n_dim=6, size_pop=100, max_iter=50,prob_mut=0.01, lb=[0.6,110,2,3,100,100], ub=[1,140,5,8,2000,2000], precision=1e-5)\n",
    "\"\"\"\n",
    "func\t-\tTarget Function\n",
    "n_dim\t-\tDimension\n",
    "size_pop\t50\tSize of the Population\n",
    "max_iter\t200\tMaximum Iteration Number\n",
    "prob_mut\t0.001\tProbability of Mutation\n",
    "lb\t-1\tLow Boundary\n",
    "ub\t1\tUpper Boundary\n",
    "\"\"\"\n",
    "\n",
    "import time\n",
    "time_start = time.time()\n",
    "\n",
    "best_x, best_y = ga.run()\n",
    "print('best_x:', best_x, '\\n', 'best_y:', best_y)\n",
    "\n",
    "time_end = time.time()\n",
    "print('Time cost of grid search= %fs' % (time_end - time_start))\n",
    "\n",
    "# visualization \n",
    "import pandas as pd\n",
    "import matplotlib.pyplot as plt\n",
    "\n",
    "Y_history = pd.DataFrame(ga.all_history_Y)\n",
    "fig, ax = plt.subplots(2, 1, figsize=(6, 9))\n",
    "ax[0].plot(Y_history.index, Y_history.values, '.', color='red')\n",
    "Y_history.min(axis=1).cummin().plot(kind='line')\n",
    "plt.show()"
   ]
  },
  {
   "cell_type": "markdown",
   "metadata": {
    "colab_type": "text",
    "id": "bNIkhi3I8j6I"
   },
   "source": [
    "Partical Swarm Optimization"
   ]
  },
  {
   "cell_type": "code",
   "execution_count": null,
   "metadata": {
    "colab": {
     "base_uri": "https://localhost:8080/",
     "height": 316
    },
    "colab_type": "code",
    "id": "_4Zrzg3M8mUZ",
    "outputId": "3ac24fa6-0013-43dc-f8ca-1a44af582f34"
   },
   "outputs": [],
   "source": [
    "from sko.PSO import PSO\n",
    "\n",
    "pso = PSO(func=processing_func, dim=6, pop=100, max_iter=50, lb=[0.6,110,2,3,100,100], ub=[1,140,5,8,2000,2000], w=0.8, c1=0.5, c2=0.5)\n",
    "\n",
    "import time\n",
    "time_start = time.time()\n",
    "\n",
    "pso.run()\n",
    "print('best_x is ', pso.gbest_x, 'best_y is', pso.gbest_y)\n",
    "\n",
    "time_end = time.time()\n",
    "print('Time cost of grid search= %fs' % (time_end - time_start))\n",
    "\n",
    "\"\"\"\n",
    "func\t-\tTarget Function\n",
    "n_dim\t-\tDimension\n",
    "size_pop\t50\tSize of the Population\n",
    "max_iter\t200\tMaximum Iteration Number\n",
    "lb\tNone\tLow Boundary\n",
    "ub\tNone\tUpper Boundary\n",
    "w\t0.8\tweight\n",
    "c1\t0.5\tindividual memory\n",
    "c2\t0.5\tgroup memory\n",
    "\"\"\"\n",
    "\n",
    "import matplotlib.pyplot as plt\n",
    "\n",
    "plt.plot(pso.gbest_y_hist)\n",
    "plt.show()"
   ]
  },
  {
   "cell_type": "markdown",
   "metadata": {
    "colab_type": "text",
    "id": "dOvMq85_CyFZ"
   },
   "source": [
    "Differential Evolution\n"
   ]
  },
  {
   "cell_type": "code",
   "execution_count": null,
   "metadata": {
    "colab": {
     "base_uri": "https://localhost:8080/",
     "height": 333
    },
    "colab_type": "code",
    "id": "Y0tRgfL7CyMN",
    "outputId": "5373e7db-5333-4115-f51b-d18c9dee1047"
   },
   "outputs": [],
   "source": [
    "from sko.DE import DE\n",
    "\n",
    "de = DE(func=processing_func, n_dim=6, size_pop=100, prob_mut=0.01,max_iter=50, lb=[0.6,110,2,3,100,100], ub=[1,140,5,8,2000,2000])\n",
    "\"\"\"\n",
    "func\t-\tTarget Function\n",
    "n_dim\t-\tDimension\n",
    "size_pop\t50\tSize of the Population\n",
    "max_iter\t200\tMaximum Iteration Number\n",
    "prob_mut\t0.001\tProbability of Mutation\n",
    "F\t0.5\tMutation coefficient \n",
    "lb\t-1\tLow Boundary \n",
    "ub\t1\tUpper Boundary \n",
    "constraint_eq\tConstraint Linear\n",
    "constraint_ueq\tConstraint Nonlinear\n",
    "\"\"\"\n",
    "\n",
    "import time\n",
    "time_start = time.time()\n",
    "\n",
    "best_x, best_y = de.run()\n",
    "print('best_x:', best_x, '\\n', 'best_y:', best_y)\n",
    "\n",
    "time_end = time.time()\n",
    "print('Time cost of grid search= %fs' % (time_end - time_start))\n",
    "\n",
    "import matplotlib.pyplot as plt\n",
    "\n",
    "plt.plot(de.all_history_Y)\n",
    "plt.show()"
   ]
  },
  {
   "cell_type": "markdown",
   "metadata": {},
   "source": [
    "# 13 Variable optimization achieved by PSO"
   ]
  },
  {
   "cell_type": "markdown",
   "metadata": {
    "run_control": {
     "marked": false
    }
   },
   "source": [
    "redifine the processing function"
   ]
  },
  {
   "cell_type": "code",
   "execution_count": null,
   "metadata": {},
   "outputs": [],
   "source": [
    "def processing(IC_ratio,Area,A_type,Thickness,HP_Temp,HP_Time,HP_Pressure,Humidity,GDE_CCM,Cell_Temp,FLC,FLA,backpressure):\n",
    "    median=standardized_data.median()\n",
    "    raw_median=data.median()\n",
    "    user_input1=raw_median[0:27]\n",
    "    \n",
    "    dict_result={}\n",
    "    \n",
    "    user_input1.iloc[0]=95.45\n",
    "    user_input1.iloc[1]=4.54\n",
    "    user_input1.iloc[2]=50.914\n",
    "    user_input1.iloc[3]=49.014\n",
    "    user_input1.iloc[4]=3.5\n",
    "    user_input1.iloc[5]=800\n",
    "    user_input1.iloc[6]=175\n",
    "    user_input1.iloc[7]=480\n",
    "    user_input1.iloc[8]=150\n",
    "    user_input1.iloc[9]=68.1\n",
    "    user_input1.iloc[10]=306\n",
    "    user_input1.iloc[11]=IC_ratio\n",
    "    user_input1.iloc[12]=Area\n",
    "    user_input1.iloc[13]=0.4\n",
    "    user_input1.iloc[14]=0.2\n",
    "    user_input1.iloc[15]=A_type\n",
    "    user_input1.iloc[16]=Thickness\n",
    "    user_input1.iloc[17]=HP_Temp\n",
    "    user_input1.iloc[18]=HP_Time\n",
    "    user_input1.iloc[19]=HP_Pressure\n",
    "    user_input1.iloc[20]=Humidity\n",
    "    user_input1.iloc[21]=GDE_CCM\n",
    "    user_input1.iloc[22]=Cell_Temp\n",
    "    user_input1.iloc[23]=FLA\n",
    "    user_input1.iloc[24]=FLC\n",
    "    user_input1.iloc[25]=backpressure\n",
    "    user_input1.iloc[26]=0.21\n",
    "    standardized_user_input1=(user_input1-np.mean(data,axis=0)[0:27])/np.std(data,axis=0)[0:27]\n",
    "    data_test_input1=standardized_user_input1\n",
    "    data_test_input1=pd.DataFrame(data_test_input1)\n",
    "    data_test_input1=data_test_input1.T\n",
    "    data_test_param1=data_test_input1.values.astype(np.float32)\n",
    "    predict_ann=model.predict(data_test_param1)\n",
    "    ###########result output##########\n",
    "    x_prediction_maximum_power_ann=predict_ann*np.std(data,axis=0)[27]+np.mean(data,axis=0)[27]\n",
    "    x_prediction_maximum_power_ann=x_prediction_maximum_power_ann.astype(np.float32)\n",
    "    x_prediction_maximum_power_ann=x_prediction_maximum_power_ann.tolist()\n",
    "\n",
    "    x_prediction_maximum_power_ann=x_prediction_maximum_power_ann[0]\n",
    "\n",
    "    x_prediction_maximum_power_ann=x_prediction_maximum_power_ann[0]\n",
    "    dict_result.update({x_prediction_maximum_power_ann:{'IC_ratio':IC_ratio,'Area':Area,\n",
    "                                                        'A_type':A_type,'Thickness':Thickness,\n",
    "                                                        'HP_Temp':HP_Temp,'HP_Time':HP_Time,'HP_Pressure':HP_Pressure,\n",
    "                                                        'Humidity':Humidity,\n",
    "                                                        'GDE_CCM':GDE_CCM,'Cell_Temp':Cell_Temp,'FLA':FLA,'FLC':FLC,\n",
    "                                                       'backpressure':backpressure}})\n",
    "\n",
    "    return x_prediction_maximum_power_ann, dict_result\n",
    "\n",
    "\n",
    "def processing_func(p):\n",
    "    IC_ratio,Area,A_type,Thickness,HP_Temp,HP_Time,HP_Pressure,Humidity,GDE_CCM,Cell_Temp,FLC,FLA,backpressure= p\n",
    "    result, _ = processing(IC_ratio,Area,A_type,Thickness,HP_Temp,HP_Time,HP_Pressure,Humidity,GDE_CCM,Cell_Temp,FLC,FLA,backpressure)\n",
    "    return -result"
   ]
  },
  {
   "cell_type": "code",
   "execution_count": null,
   "metadata": {},
   "outputs": [],
   "source": [
    "from sko.PSO import PSO\n",
    "#IC_ratio,Area,A_type,Thickness,HP_Temp,HP_Time,HP_Pressure,Humidity,GDE_CCM,Cell_Temp,FLC,FLA,backpressure\n",
    "pso = PSO(func=processing_func, dim=13, pop=100, max_iter=75, lb=[0.6,1,20,25,110,2,3,80,0,70,100,100,0], ub=[1,25,60,50,140,5,8,100,1 ,85,2000,2000,0.2], w=0.8, c1=0.5, c2=0.5)\n",
    "\n",
    "import time\n",
    "time_start = time.time()\n",
    "\n",
    "pso.run()\n",
    "print('best_x is ', pso.gbest_x, 'best_y is', pso.gbest_y)\n",
    "\n",
    "time_end = time.time()\n",
    "print('Time cost of grid search= %fs' % (time_end - time_start))\n",
    "\n",
    "\"\"\"\n",
    "func\t-\tTarget Function\n",
    "n_dim\t-\tDimension\n",
    "size_pop\t50\tSize of the Population\n",
    "max_iter\t200\tMaximum Iteration Number\n",
    "lb\tNone\tLow Boundary\n",
    "ub\tNone\tUpper Boundary\n",
    "w\t0.8\tweight\n",
    "c1\t0.5\tindividual memory\n",
    "c2\t0.5\tgroup memory\n",
    "\"\"\"\n",
    "\n",
    "import matplotlib.pyplot as plt\n",
    "\n",
    "plt.plot(pso.gbest_y_hist)\n",
    "plt.show()"
   ]
  }
 ],
 "metadata": {
  "colab": {
   "collapsed_sections": [],
   "name": "MPD-ANN.ipynb",
   "provenance": []
  },
  "kernelspec": {
   "display_name": "Python 3",
   "language": "python",
   "name": "python3"
  },
  "language_info": {
   "codemirror_mode": {
    "name": "ipython",
    "version": 3
   },
   "file_extension": ".py",
   "mimetype": "text/x-python",
   "name": "python",
   "nbconvert_exporter": "python",
   "pygments_lexer": "ipython3",
   "version": "3.7.6"
  }
 },
 "nbformat": 4,
 "nbformat_minor": 1
}
